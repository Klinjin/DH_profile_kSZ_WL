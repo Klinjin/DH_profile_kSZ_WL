{
 "cells": [
  {
   "cell_type": "code",
   "execution_count": 1,
   "id": "1f279a29-d5a5-4e59-883e-9f62ef0c5c8c",
   "metadata": {},
   "outputs": [],
   "source": [
    "import importlib\n",
    "import SZstacker\n",
    "importlib.reload(SZstacker) \n",
    "from illustris_halo_profile_reader import *\n",
    "from SZstacker import *"
   ]
  },
  {
   "cell_type": "code",
   "execution_count": 7,
   "id": "57db138a-975e-497a-9b0c-9ab5ca55ade4",
   "metadata": {},
   "outputs": [
    {
     "name": "stdout",
     "output_type": "stream",
     "text": [
      "Reading snapshot\n",
      "\n",
      "Computing power spectra of the fields...\n",
      "Time FFTS = 0.95\n",
      "Time loop = 4.28\n",
      "Time taken = 5.24 seconds\n",
      "\n",
      "Computing correlation function of the field...\n",
      "Time to complete loop = 0.69\n",
      "Time taken = 3.14 seconds\n",
      "\n",
      "Computing correlation function of the field...\n",
      "Time to complete loop = 0.71\n",
      "Time taken = 4.49 seconds\n",
      "\n",
      "Computing correlation function of the field...\n",
      "Time to complete loop = 0.69\n",
      "Time taken = 3.17 seconds\n",
      "\n",
      "Computing correlation function of the field...\n",
      "Time to complete loop = 0.70\n",
      "Time taken = 3.14 seconds\n",
      "Saving Baryon Suppression Field...\n",
      "Using nPixels=1000 for arcmin/pixel of 0.157\n",
      "Applied Gaussian convolution with FWHM=1.6 arcmin\n",
      "Using nPixels=1000 for arcmin/pixel of 0.157\n",
      "Applied Gaussian convolution with FWHM=1.6 arcmin\n",
      "Using nPixels=1000 for arcmin/pixel of 0.157\n",
      "Applied Gaussian convolution with FWHM=1.6 arcmin\n",
      "Using nPixels=1000 for arcmin/pixel of 0.157\n",
      "Applied Gaussian convolution with FWHM=1.6 arcmin\n",
      "Henry's halo analysis completed in 129.54 seconds.\n",
      "CPU times: user 5min 35s, sys: 36.8 s, total: 6min 11s\n",
      "Wall time: 2min 9s\n"
     ]
    }
   ],
   "source": [
    "%%time\n",
    "## field suppression\n",
    "median_ksz_sim = readHaloProfiles(SB35_sim_index = 419, snapNum = '074')\n",
    "median_ksz_sim.henry_main(nPixel=1000,\n",
    "                     n_bins=20, \n",
    "                     r_min=0.04, #cMpc/h\n",
    "                     r_max=10,  #cMpc/h\n",
    "                     plot=False,\n",
    "                       save=True)"
   ]
  },
  {
   "cell_type": "code",
   "execution_count": 6,
   "id": "a9a47a3c-1d09-410f-829c-d684ec055ec4",
   "metadata": {},
   "outputs": [
    {
     "name": "stdout",
     "output_type": "stream",
     "text": [
      "Reading snapshot\n",
      "\n",
      "Computing power spectra of the fields...\n",
      "Time FFTS = 0.72\n",
      "Time loop = 4.13\n",
      "Time taken = 4.86 seconds\n",
      "\n",
      "Computing correlation function of the field...\n",
      "Time to complete loop = 0.69\n",
      "Time taken = 3.27 seconds\n",
      "\n",
      "Computing correlation function of the field...\n",
      "Time to complete loop = 0.69\n",
      "Time taken = 4.48 seconds\n",
      "\n",
      "Computing correlation function of the field...\n",
      "Time to complete loop = 0.69\n",
      "Time taken = 3.13 seconds\n",
      "\n",
      "Computing correlation function of the field...\n",
      "Time to complete loop = 0.69\n",
      "Time taken = 3.13 seconds\n",
      "Saving Baryon Suppression Field...\n",
      "Using default nPixels=314 for ACT-like resolution of 0.500 arcmin/pixel\n",
      "Applied Gaussian convolution with FWHM=1.6 arcmin\n",
      "Using default nPixels=314 for ACT-like resolution of 0.500 arcmin/pixel\n",
      "Applied Gaussian convolution with FWHM=1.6 arcmin\n",
      "Using default nPixels=314 for ACT-like resolution of 0.500 arcmin/pixel\n",
      "Applied Gaussian convolution with FWHM=1.6 arcmin\n",
      "Using default nPixels=314 for ACT-like resolution of 0.500 arcmin/pixel\n",
      "Applied Gaussian convolution with FWHM=1.6 arcmin\n"
     ]
    },
    {
     "name": "stderr",
     "output_type": "stream",
     "text": [
      "/pscratch/sd/l/lindajin/CAMELS/IllustrisTNG/filter_utils.py:136: RuntimeWarning: divide by zero encountered in scalar divide\n",
      "  inRing *= np.sum(inDisk) / np.sum(inRing) # Normalize the ring\n",
      "/pscratch/sd/l/lindajin/CAMELS/IllustrisTNG/filter_utils.py:136: RuntimeWarning: invalid value encountered in multiply\n",
      "  inRing *= np.sum(inDisk) / np.sum(inRing) # Normalize the ring\n"
     ]
    },
    {
     "name": "stdout",
     "output_type": "stream",
     "text": [
      "Henry's halo analysis completed in 117.60 seconds.\n"
     ]
    }
   ],
   "source": [
    "median_ksz_sim.henry_main(nPixel=None,\n",
    "                                beamsize=1.6,\n",
    "                               n_bins=20, \n",
    "                               r_min=0.04,  # cMpc/h\n",
    "                               r_max=15,    # cMpc/h\n",
    "                               plot=False,\n",
    "                               save=True,\n",
    "                         )"
   ]
  },
  {
   "cell_type": "code",
   "execution_count": 2,
   "id": "103a7494-fabe-4fde-94db-03b36a2d0f1d",
   "metadata": {},
   "outputs": [
    {
     "name": "stdout",
     "output_type": "stream",
     "text": [
      "Starting SZ stacking analysis for tau\n",
      "Using nPixels=1000 for arcmin/pixel of 0.157\n",
      "Saved map to /pscratch/sd/l/lindajin/CAMELS/IllustrisTNG/L50n512_SB35/SB35_419/data/tau_1000_xy_map.npy\n"
     ]
    },
    {
     "ename": "NameError",
     "evalue": "name 'r_max' is not defined",
     "output_type": "error",
     "traceback": [
      "\u001b[0;31m---------------------------------------------------------------------------\u001b[0m",
      "\u001b[0;31mNameError\u001b[0m                                 Traceback (most recent call last)",
      "File \u001b[0;32m<timed exec>:3\u001b[0m\n",
      "File \u001b[0;32m/pscratch/sd/l/lindajin/CAMELS/IllustrisTNG/SZstacker.py:308\u001b[0m, in \u001b[0;36mSZMapStacker.sz_main\u001b[0;34m(self, nPixel, beamsize, n_bins, theta_min, theta_max, plot, save, pType, filterType, projection)\u001b[0m\n\u001b[1;32m    305\u001b[0m t0 \u001b[38;5;241m=\u001b[39m time\u001b[38;5;241m.\u001b[39mtime()\n\u001b[1;32m    307\u001b[0m \u001b[38;5;66;03m# Run stacking analysis\u001b[39;00m\n\u001b[0;32m--> 308\u001b[0m radii, profiles \u001b[38;5;241m=\u001b[39m \u001b[38;5;28;43mself\u001b[39;49m\u001b[38;5;241;43m.\u001b[39;49m\u001b[43mstackMap\u001b[49m\u001b[43m(\u001b[49m\n\u001b[1;32m    309\u001b[0m \u001b[43m    \u001b[49m\u001b[43mpType\u001b[49m\u001b[38;5;241;43m=\u001b[39;49m\u001b[43mpType\u001b[49m\u001b[43m,\u001b[49m\u001b[43m \u001b[49m\u001b[43mfilterType\u001b[49m\u001b[38;5;241;43m=\u001b[39;49m\u001b[43mfilterType\u001b[49m\u001b[43m,\u001b[49m\u001b[43m \u001b[49m\n\u001b[1;32m    310\u001b[0m \u001b[43m         \u001b[49m\u001b[43mnPixels\u001b[49m\u001b[38;5;241;43m=\u001b[39;49m\u001b[43mnPixel\u001b[49m\u001b[43m,\u001b[49m\u001b[43m \u001b[49m\u001b[43mbeamsize\u001b[49m\u001b[38;5;241;43m=\u001b[39;49m\u001b[43mbeamsize\u001b[49m\u001b[43m,\u001b[49m\n\u001b[1;32m    311\u001b[0m \u001b[43m         \u001b[49m\u001b[43mn_bins\u001b[49m\u001b[38;5;241;43m=\u001b[39;49m\u001b[43mn_bins\u001b[49m\u001b[43m,\u001b[49m\u001b[43m \u001b[49m\u001b[43mtheta_min\u001b[49m\u001b[38;5;241;43m=\u001b[39;49m\u001b[43mtheta_min\u001b[49m\u001b[43m,\u001b[49m\u001b[43m \u001b[49m\u001b[43mtheta_max\u001b[49m\u001b[38;5;241;43m=\u001b[39;49m\u001b[43mtheta_max\u001b[49m\u001b[43m,\u001b[49m\n\u001b[1;32m    312\u001b[0m \u001b[43m         \u001b[49m\u001b[43mprojection\u001b[49m\u001b[38;5;241;43m=\u001b[39;49m\u001b[43mprojection\u001b[49m\u001b[43m,\u001b[49m\u001b[43m \u001b[49m\u001b[43msave\u001b[49m\u001b[38;5;241;43m=\u001b[39;49m\u001b[43msave\u001b[49m\u001b[43m,\u001b[49m\u001b[43m \u001b[49m\n\u001b[1;32m    313\u001b[0m \u001b[43m         \u001b[49m\u001b[43mplot\u001b[49m\u001b[38;5;241;43m=\u001b[39;49m\u001b[43mplot\u001b[49m\n\u001b[1;32m    314\u001b[0m \u001b[43m\u001b[49m\u001b[43m)\u001b[49m\n\u001b[1;32m    316\u001b[0m \u001b[38;5;28mprint\u001b[39m(\u001b[38;5;124mf\u001b[39m\u001b[38;5;124m\"\u001b[39m\u001b[38;5;124mSZ stacking completed in \u001b[39m\u001b[38;5;132;01m{\u001b[39;00mtime\u001b[38;5;241m.\u001b[39mtime()\u001b[38;5;250m \u001b[39m\u001b[38;5;241m-\u001b[39m\u001b[38;5;250m \u001b[39mt0\u001b[38;5;132;01m:\u001b[39;00m\u001b[38;5;124m.2f\u001b[39m\u001b[38;5;132;01m}\u001b[39;00m\u001b[38;5;124m seconds\u001b[39m\u001b[38;5;124m\"\u001b[39m)\n\u001b[1;32m    317\u001b[0m \u001b[38;5;28;01mreturn\u001b[39;00m radii, profiles\n",
      "File \u001b[0;32m/pscratch/sd/l/lindajin/CAMELS/IllustrisTNG/SZstacker.py:255\u001b[0m, in \u001b[0;36mSZMapStacker.stackMap\u001b[0;34m(self, pType, filterType, nPixels, beamsize, n_bins, theta_min, theta_max, projection, save, plot)\u001b[0m\n\u001b[1;32m    252\u001b[0m cutout \u001b[38;5;241m=\u001b[39m cutout_2d_periodic(field, haloLoc, radii_Pixel[\u001b[38;5;241m-\u001b[39m\u001b[38;5;241m1\u001b[39m])\n\u001b[1;32m    254\u001b[0m \u001b[38;5;66;03m# Create radial distance grid\u001b[39;00m\n\u001b[0;32m--> 255\u001b[0m rr \u001b[38;5;241m=\u001b[39m radial_distance_grid(cutout, (\u001b[38;5;241m-\u001b[39m\u001b[43mr_max\u001b[49m, r_max))\n\u001b[1;32m    257\u001b[0m \u001b[38;5;66;03m# Apply CAP filter at each radius\u001b[39;00m\n\u001b[1;32m    258\u001b[0m profile \u001b[38;5;241m=\u001b[39m []\n",
      "\u001b[0;31mNameError\u001b[0m: name 'r_max' is not defined"
     ]
    }
   ],
   "source": [
    "%%time\n",
    "## field suppression\n",
    "median_ksz_sim = SZMapStacker(SB35_sim_index = 419, snapNum = '074')\n",
    "median_ksz_sim.sz_main(nPixel=1000,\n",
    "                        beamsize=1.6,\n",
    "                     n_bins=9, \n",
    "                        theta_min=1,  #arcmin\n",
    "                     theta_max=6, #arcmin\n",
    "                     plot=False,\n",
    "                       save=True,\n",
    "                       pType='tau', \n",
    "                    filterType='CAP', \n",
    "                      )"
   ]
  },
  {
   "cell_type": "code",
   "execution_count": 3,
   "id": "3aacbade-c4f0-4521-ba3f-4ca958a4e7e2",
   "metadata": {
    "scrolled": true
   },
   "outputs": [
    {
     "name": "stdout",
     "output_type": "stream",
     "text": [
      "Starting SZ stacking analysis for tau\n",
      "Using nPixels=314 for arcmin/pixel of 0.500\n",
      "Saved map to /pscratch/sd/l/lindajin/CAMELS/IllustrisTNG/L50n512_SB35/SB35_419/data/tau_314_xy_map.npy\n"
     ]
    },
    {
     "ename": "NameError",
     "evalue": "name 'r_max' is not defined",
     "output_type": "error",
     "traceback": [
      "\u001b[0;31m---------------------------------------------------------------------------\u001b[0m",
      "\u001b[0;31mNameError\u001b[0m                                 Traceback (most recent call last)",
      "Cell \u001b[0;32mIn[3], line 1\u001b[0m\n\u001b[0;32m----> 1\u001b[0m \u001b[43mmedian_ksz_sim\u001b[49m\u001b[38;5;241;43m.\u001b[39;49m\u001b[43msz_main\u001b[49m\u001b[43m(\u001b[49m\u001b[43mnPixel\u001b[49m\u001b[38;5;241;43m=\u001b[39;49m\u001b[38;5;28;43;01mNone\u001b[39;49;00m\u001b[43m,\u001b[49m\n\u001b[1;32m      2\u001b[0m \u001b[43m                                \u001b[49m\u001b[43mbeamsize\u001b[49m\u001b[38;5;241;43m=\u001b[39;49m\u001b[38;5;241;43m1.6\u001b[39;49m\u001b[43m,\u001b[49m\n\u001b[1;32m      3\u001b[0m \u001b[43m                               \u001b[49m\u001b[43mn_bins\u001b[49m\u001b[38;5;241;43m=\u001b[39;49m\u001b[38;5;241;43m9\u001b[39;49m\u001b[43m,\u001b[49m\u001b[43m \u001b[49m\n\u001b[1;32m      4\u001b[0m \u001b[43m                                 \u001b[49m\u001b[43mtheta_min\u001b[49m\u001b[38;5;241;43m=\u001b[39;49m\u001b[38;5;241;43m1\u001b[39;49m\u001b[43m,\u001b[49m\u001b[43m  \u001b[49m\u001b[38;5;66;43;03m#arcmin\u001b[39;49;00m\n\u001b[1;32m      5\u001b[0m \u001b[43m                             \u001b[49m\u001b[43mtheta_max\u001b[49m\u001b[38;5;241;43m=\u001b[39;49m\u001b[38;5;241;43m6\u001b[39;49m\u001b[43m,\u001b[49m\u001b[43m \u001b[49m\u001b[38;5;66;43;03m#arcmin\u001b[39;49;00m\n\u001b[1;32m      6\u001b[0m \u001b[43m                               \u001b[49m\u001b[43mplot\u001b[49m\u001b[38;5;241;43m=\u001b[39;49m\u001b[38;5;28;43;01mFalse\u001b[39;49;00m\u001b[43m,\u001b[49m\n\u001b[1;32m      7\u001b[0m \u001b[43m                               \u001b[49m\u001b[43msave\u001b[49m\u001b[38;5;241;43m=\u001b[39;49m\u001b[38;5;28;43;01mTrue\u001b[39;49;00m\u001b[43m,\u001b[49m\n\u001b[1;32m      8\u001b[0m \u001b[43m                        \u001b[49m\u001b[43mpType\u001b[49m\u001b[38;5;241;43m=\u001b[39;49m\u001b[38;5;124;43m'\u001b[39;49m\u001b[38;5;124;43mtau\u001b[39;49m\u001b[38;5;124;43m'\u001b[39;49m\u001b[43m,\u001b[49m\u001b[43m \u001b[49m\n\u001b[1;32m      9\u001b[0m \u001b[43m                        \u001b[49m\u001b[43mfilterType\u001b[49m\u001b[38;5;241;43m=\u001b[39;49m\u001b[38;5;124;43m'\u001b[39;49m\u001b[38;5;124;43mCAP\u001b[39;49m\u001b[38;5;124;43m'\u001b[39;49m\u001b[43m,\u001b[49m\u001b[43m \u001b[49m\n\u001b[1;32m     10\u001b[0m \u001b[43m                      \u001b[49m\u001b[43m)\u001b[49m\n",
      "File \u001b[0;32m/pscratch/sd/l/lindajin/CAMELS/IllustrisTNG/SZstacker.py:308\u001b[0m, in \u001b[0;36mSZMapStacker.sz_main\u001b[0;34m(self, nPixel, beamsize, n_bins, theta_min, theta_max, plot, save, pType, filterType, projection)\u001b[0m\n\u001b[1;32m    305\u001b[0m t0 \u001b[38;5;241m=\u001b[39m time\u001b[38;5;241m.\u001b[39mtime()\n\u001b[1;32m    307\u001b[0m \u001b[38;5;66;03m# Run stacking analysis\u001b[39;00m\n\u001b[0;32m--> 308\u001b[0m radii, profiles \u001b[38;5;241m=\u001b[39m \u001b[38;5;28;43mself\u001b[39;49m\u001b[38;5;241;43m.\u001b[39;49m\u001b[43mstackMap\u001b[49m\u001b[43m(\u001b[49m\n\u001b[1;32m    309\u001b[0m \u001b[43m    \u001b[49m\u001b[43mpType\u001b[49m\u001b[38;5;241;43m=\u001b[39;49m\u001b[43mpType\u001b[49m\u001b[43m,\u001b[49m\u001b[43m \u001b[49m\u001b[43mfilterType\u001b[49m\u001b[38;5;241;43m=\u001b[39;49m\u001b[43mfilterType\u001b[49m\u001b[43m,\u001b[49m\u001b[43m \u001b[49m\n\u001b[1;32m    310\u001b[0m \u001b[43m         \u001b[49m\u001b[43mnPixels\u001b[49m\u001b[38;5;241;43m=\u001b[39;49m\u001b[43mnPixel\u001b[49m\u001b[43m,\u001b[49m\u001b[43m \u001b[49m\u001b[43mbeamsize\u001b[49m\u001b[38;5;241;43m=\u001b[39;49m\u001b[43mbeamsize\u001b[49m\u001b[43m,\u001b[49m\n\u001b[1;32m    311\u001b[0m \u001b[43m         \u001b[49m\u001b[43mn_bins\u001b[49m\u001b[38;5;241;43m=\u001b[39;49m\u001b[43mn_bins\u001b[49m\u001b[43m,\u001b[49m\u001b[43m \u001b[49m\u001b[43mtheta_min\u001b[49m\u001b[38;5;241;43m=\u001b[39;49m\u001b[43mtheta_min\u001b[49m\u001b[43m,\u001b[49m\u001b[43m \u001b[49m\u001b[43mtheta_max\u001b[49m\u001b[38;5;241;43m=\u001b[39;49m\u001b[43mtheta_max\u001b[49m\u001b[43m,\u001b[49m\n\u001b[1;32m    312\u001b[0m \u001b[43m         \u001b[49m\u001b[43mprojection\u001b[49m\u001b[38;5;241;43m=\u001b[39;49m\u001b[43mprojection\u001b[49m\u001b[43m,\u001b[49m\u001b[43m \u001b[49m\u001b[43msave\u001b[49m\u001b[38;5;241;43m=\u001b[39;49m\u001b[43msave\u001b[49m\u001b[43m,\u001b[49m\u001b[43m \u001b[49m\n\u001b[1;32m    313\u001b[0m \u001b[43m         \u001b[49m\u001b[43mplot\u001b[49m\u001b[38;5;241;43m=\u001b[39;49m\u001b[43mplot\u001b[49m\n\u001b[1;32m    314\u001b[0m \u001b[43m\u001b[49m\u001b[43m)\u001b[49m\n\u001b[1;32m    316\u001b[0m \u001b[38;5;28mprint\u001b[39m(\u001b[38;5;124mf\u001b[39m\u001b[38;5;124m\"\u001b[39m\u001b[38;5;124mSZ stacking completed in \u001b[39m\u001b[38;5;132;01m{\u001b[39;00mtime\u001b[38;5;241m.\u001b[39mtime()\u001b[38;5;250m \u001b[39m\u001b[38;5;241m-\u001b[39m\u001b[38;5;250m \u001b[39mt0\u001b[38;5;132;01m:\u001b[39;00m\u001b[38;5;124m.2f\u001b[39m\u001b[38;5;132;01m}\u001b[39;00m\u001b[38;5;124m seconds\u001b[39m\u001b[38;5;124m\"\u001b[39m)\n\u001b[1;32m    317\u001b[0m \u001b[38;5;28;01mreturn\u001b[39;00m radii, profiles\n",
      "File \u001b[0;32m/pscratch/sd/l/lindajin/CAMELS/IllustrisTNG/SZstacker.py:255\u001b[0m, in \u001b[0;36mSZMapStacker.stackMap\u001b[0;34m(self, pType, filterType, nPixels, beamsize, n_bins, theta_min, theta_max, projection, save, plot)\u001b[0m\n\u001b[1;32m    252\u001b[0m cutout \u001b[38;5;241m=\u001b[39m cutout_2d_periodic(field, haloLoc, radii_Pixel[\u001b[38;5;241m-\u001b[39m\u001b[38;5;241m1\u001b[39m])\n\u001b[1;32m    254\u001b[0m \u001b[38;5;66;03m# Create radial distance grid\u001b[39;00m\n\u001b[0;32m--> 255\u001b[0m rr \u001b[38;5;241m=\u001b[39m radial_distance_grid(cutout, (\u001b[38;5;241m-\u001b[39m\u001b[43mr_max\u001b[49m, r_max))\n\u001b[1;32m    257\u001b[0m \u001b[38;5;66;03m# Apply CAP filter at each radius\u001b[39;00m\n\u001b[1;32m    258\u001b[0m profile \u001b[38;5;241m=\u001b[39m []\n",
      "\u001b[0;31mNameError\u001b[0m: name 'r_max' is not defined"
     ]
    }
   ],
   "source": [
    "median_ksz_sim.sz_main(nPixel=None,\n",
    "                                beamsize=1.6,\n",
    "                               n_bins=9, \n",
    "                                 theta_min=1,  #arcmin\n",
    "                             theta_max=6, #arcmin\n",
    "                               plot=False,\n",
    "                               save=True,\n",
    "                        pType='tau', \n",
    "                        filterType='CAP', \n",
    "                      )"
   ]
  },
  {
   "cell_type": "code",
   "execution_count": null,
   "id": "0a3cdc3e-6094-44a6-a515-e55a48778dbe",
   "metadata": {},
   "outputs": [],
   "source": []
  }
 ],
 "metadata": {
  "kernelspec": {
   "display_name": "myenv",
   "language": "python",
   "name": "env1"
  },
  "language_info": {
   "codemirror_mode": {
    "name": "ipython",
    "version": 3
   },
   "file_extension": ".py",
   "mimetype": "text/x-python",
   "name": "python",
   "nbconvert_exporter": "python",
   "pygments_lexer": "ipython3",
   "version": "3.11.7"
  }
 },
 "nbformat": 4,
 "nbformat_minor": 5
}
