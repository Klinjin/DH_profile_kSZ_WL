{
 "cells": [
  {
   "cell_type": "markdown",
   "id": "9a74fad4-88d1-46dd-9577-a1e36e0769bd",
   "metadata": {},
   "source": [
    "## AdamW + adaptive lr training NN+GP -- non-convex loss, high-dim params better"
   ]
  },
  {
   "cell_type": "code",
   "execution_count": null,
   "id": "fdec28f2-98d2-4786-8c06-f88fc0e9c471",
   "metadata": {
    "scrolled": true
   },
   "outputs": [],
   "source": [
    "import importlib\n",
    "import GP_dataloader\n",
    "importlib.reload(GP_dataloader) \n",
    "from GP_dataloader import *\n",
    "import train_GP\n",
    "importlib.reload(train_GP) \n",
    "from train_GP import *\n",
    "\n",
    "sim_indices_train = np.arange(20)                                                                                                                                                                                                                                                                                                                                                                                                                                                                                                                                                                                                                                                                                                                                                                                                                                                                                                                                                                                                                                                                                                                                                                                                                                                                                                                                                                                                                                                                                                                                                                                                                                                                                                                                                                                                                                                                                                                                                                                                                                                                                                                                                                                                                                                                                                                                                                                                                                                                                                                                                                                                                                                                                                                                                                                                                                                                                                                                                                                                                                                                                                                                                                                                                                                                                                                                                                                                                                                                                                                                                                                                                                                                                                                                                                                                                                                                                                                                                                                                                                                                                                                                                                                                                                                                                                                                                                                                                                                                                                                                                                                                                                                                                                                                                                                                                                                                                                                                                                                 \n",
    "#np.load('data/sparse_sampling_train_indices_random.npy')  # Training simulations\n",
    "gp_models, best_params_list, model_info_list = train_NN_gp(sim_indices_train, filterType='CAP', ptype='gas', save=True)"
   ]
  },
  {
   "cell_type": "code",
   "execution_count": null,
   "id": "d95b4010-ff56-43ae-9603-1e68b9f9483a",
   "metadata": {},
   "outputs": [],
   "source": []
  }
 ],
 "metadata": {
  "kernelspec": {
   "display_name": "myenv",
   "language": "python",
   "name": "env1"
  },
  "language_info": {
   "codemirror_mode": {
    "name": "ipython",
    "version": 3
   },
   "file_extension": ".py",
   "mimetype": "text/x-python",
   "name": "python",
   "nbconvert_exporter": "python",
   "pygments_lexer": "ipython3",
   "version": "3.11.7"
  }
 },
 "nbformat": 4,
 "nbformat_minor": 5
}
