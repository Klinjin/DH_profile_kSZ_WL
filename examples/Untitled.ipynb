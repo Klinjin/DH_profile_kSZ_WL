{
 "cells": [
  {
   "cell_type": "code",
   "execution_count": 3,
   "id": "387fdd41-655c-4b8f-8ccc-6f3345063af3",
   "metadata": {},
   "outputs": [
    {
     "name": "stdout",
     "output_type": "stream",
     "text": [
      "Traceback (most recent call last):\n",
      "  File \"/pscratch/sd/l/lindajin/DH_profile_kSZ_WL/examples/neural_vs_gp_comparison.py\", line 14, in <module>\n",
      "    import jax\n",
      "ModuleNotFoundError: No module named 'jax'\n"
     ]
    }
   ],
   "source": [
    "! module load python\n",
    "! source /global/u1/l/lindajin/virtualenvs/env1/bin/activate\n",
    "! python neural_vs_gp_comparison.py"
   ]
  },
  {
   "cell_type": "code",
   "execution_count": null,
   "id": "bcc36cd4-7037-4afd-894b-d667ade5f52e",
   "metadata": {},
   "outputs": [],
   "source": [
    "! python physics_neural_demo.py"
   ]
  }
 ],
 "metadata": {
  "kernelspec": {
   "display_name": "myenv",
   "language": "python",
   "name": "env1"
  },
  "language_info": {
   "codemirror_mode": {
    "name": "ipython",
    "version": 3
   },
   "file_extension": ".py",
   "mimetype": "text/x-python",
   "name": "python",
   "nbconvert_exporter": "python",
   "pygments_lexer": "ipython3",
   "version": "3.11.7"
  }
 },
 "nbformat": 4,
 "nbformat_minor": 5
}
