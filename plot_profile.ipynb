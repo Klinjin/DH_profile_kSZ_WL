{
 "cells": [
  {
   "cell_type": "code",
   "execution_count": null,
   "id": "5614eb25-f808-4202-8d15-5580c2574234",
   "metadata": {},
   "outputs": [],
   "source": "from src.data.dataloader import *"
  },
  {
   "cell_type": "code",
   "execution_count": 13,
   "id": "230ef84c-09b6-47a6-8575-f80b9e951261",
   "metadata": {},
   "outputs": [
    {
     "name": "stdout",
     "output_type": "stream",
     "text": [
      "Getting total profiles with cumulative filter for 1 simulations...\n",
      "Finished getting profiles in 68 halos.\n"
     ]
    }
   ],
   "source": [
    "sim_indices_train = np.load('data/sparse_sampling_train_indices_random.npy')\n",
    "r_bins, profiles_ptype, mass_halos, param_halos, k, PkRatio = getProfile([15],'cumulative','total')\n"
   ]
  },
  {
   "cell_type": "code",
   "execution_count": 9,
   "id": "1ff8b781-7c7a-432e-b94f-2ef0d0482356",
   "metadata": {},
   "outputs": [
    {
     "data": {
      "text/plain": [
       "False"
      ]
     },
     "execution_count": 9,
     "metadata": {},
     "output_type": "execute_result"
    }
   ],
   "source": [
    "np.isnan(profiles_ptype).any()"
   ]
  },
  {
   "cell_type": "code",
   "execution_count": 11,
   "id": "d428da52-0710-4167-a29c-c8eb19f3bbac",
   "metadata": {},
   "outputs": [
    {
     "data": {
      "text/plain": [
       "(68, 21)"
      ]
     },
     "execution_count": 11,
     "metadata": {},
     "output_type": "execute_result"
    }
   ],
   "source": [
    "profiles_ptype.shape"
   ]
  },
  {
   "cell_type": "code",
   "execution_count": 15,
   "id": "e1e42f63-538a-4458-87ad-a469fd14d26e",
   "metadata": {},
   "outputs": [
    {
     "data": {
      "text/plain": [
       "Array(True, dtype=bool, weak_type=True)"
      ]
     },
     "execution_count": 15,
     "metadata": {},
     "output_type": "execute_result"
    }
   ],
   "source": [
    "profiles_ptype.any()>0"
   ]
  },
  {
   "cell_type": "code",
   "execution_count": 16,
   "id": "5f4f03d0-bd7f-4f90-8ab0-0bc2fb9f0f98",
   "metadata": {},
   "outputs": [
    {
     "data": {
      "text/plain": [
       "Array(1.0141436e+15, dtype=float32)"
      ]
     },
     "execution_count": 16,
     "metadata": {},
     "output_type": "execute_result"
    }
   ],
   "source": [
    "profiles_ptype.mean()"
   ]
  },
  {
   "cell_type": "code",
   "execution_count": null,
   "id": "96959512-acb8-4a3a-bbd9-26e9e4306862",
   "metadata": {},
   "outputs": [],
   "source": []
  }
 ],
 "metadata": {
  "kernelspec": {
   "display_name": "myenv",
   "language": "python",
   "name": "env1"
  },
  "language_info": {
   "codemirror_mode": {
    "name": "ipython",
    "version": 3
   },
   "file_extension": ".py",
   "mimetype": "text/x-python",
   "name": "python",
   "nbconvert_exporter": "python",
   "pygments_lexer": "ipython3",
   "version": "3.11.7"
  }
 },
 "nbformat": 4,
 "nbformat_minor": 5
}